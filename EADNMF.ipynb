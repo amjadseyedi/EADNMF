{
 "cells": [
  {
   "cell_type": "code",
   "execution_count": 1,
   "id": "607ee003",
   "metadata": {},
   "outputs": [
    {
     "name": "stdout",
     "output_type": "stream",
     "text": [
      "num GPUs 1\n"
     ]
    }
   ],
   "source": [
    "import numpy as np\n",
    "import scipy.io\n",
    "import os\n",
    "import torch\n",
    "from dnmf import DNMF\n",
    "from robust import robust\n",
    "from side import np_to_var, var_to_np, np_to_tensor\n",
    "\n",
    "class Namespace:\n",
    "    def __init__(self, **kwargs):\n",
    "        self.__dict__.update(kwargs)\n",
    "\n",
    "## GPU or CPU\n",
    "GPU = True\n",
    "if GPU:\n",
    "    torch.backends.cudnn.enabled = True\n",
    "    torch.backends.cudnn.benchmark = True\n",
    "    os.environ['CUDA_VISIBLE_DEVICES'] = '0'\n",
    "    print(\"num GPUs\", torch.cuda.device_count())\n",
    "    dtype = torch.cuda.FloatTensor\n",
    "else:\n",
    "    dtype = torch.FloatTensor\n",
    "    print(\"CPU\")"
   ]
  },
  {
   "cell_type": "markdown",
   "id": "17ee72f4",
   "metadata": {},
   "source": [
    "### Dataset & Parameters"
   ]
  },
  {
   "cell_type": "code",
   "execution_count": 4,
   "id": "d47611f4",
   "metadata": {},
   "outputs": [],
   "source": [
    "V = torch.load('COCO/V.pt').type(dtype)/255\n",
    "J = torch.load('COCO/mask1.pt').type(dtype)\n",
    "\n",
    "args = Namespace()\n",
    "args.type = dtype\n",
    "args.seed = 42\n",
    "\n",
    "# Attack parameter \\lambda\n",
    "l_r = 2\n",
    "\n",
    "# Number of pre-training iterations\n",
    "args.pre_iterations = 300\n",
    "\n",
    "# Number of outer(attacker) iterations\n",
    "args.outIterations = 10\n",
    "\n",
    "# Number of inner(learner) iterations\n",
    "args.iterations = 50\n",
    "\n",
    "# Size of latents\n",
    "args.layers = [400, 300, 200]\n",
    "\n",
    "# Model cost. 'el' means Elastic loss and 'F' means Frobenius loss. \n",
    "args.cost = 'el'\n",
    "\n",
    "# scale parameter \\delta (just for Elastic loss)\n",
    "args.para = 2\n",
    "\n",
    "# For L21 loss, set cost to 'el' and set 'para' to '0'.\n",
    "\n",
    "cost1 = np.zeros(args.outIterations + 1)\n",
    "tol = 1e-10"
   ]
  },
  {
   "cell_type": "markdown",
   "id": "83c934b7",
   "metadata": {},
   "source": [
    "### EADNMF model"
   ]
  },
  {
   "cell_type": "code",
   "execution_count": null,
   "id": "6180eeb2",
   "metadata": {},
   "outputs": [],
   "source": [
    "# Create Model\n",
    "model = DNMF(J, V, args)\n",
    "\n",
    "# Pre-Training with shallow NMF\n",
    "model.pre_training()\n",
    "\n",
    "# Error of the pre=trained model\n",
    "W = model.U_s[0]\n",
    "for i in range(model.p-1):\n",
    "    W = W @ model.U_s[i+1]\n",
    "H = model.V_s[model.p-1]\n",
    "\n",
    "cost1[0] = torch.norm(J * V - J * (W @ H))**2\n",
    "print('Current iteration 0 and cost is %.3f\\n' % (cost1[0]))\n",
    "\n",
    "# Start Adversarial Training\n",
    "iterator = (range(args.outIterations))\n",
    "for k in iterator:\n",
    "    #print(\"Outer : \", k+1)\n",
    "    if k==0:\n",
    "        V_pre = W @ H\n",
    "        R = torch.zeros(J.shape[0], J.shape[1])\n",
    "    else:\n",
    "        V_pre = model.P @ model.V_s[model.p-1]\n",
    "\n",
    "\n",
    "    # Update R\n",
    "    M = J * V - (J * V_pre)\n",
    "    C = robust(M, R, args.cost, 'F', l_r, args.para, args.type)\n",
    "    R = torch.max(M @ C, -J * V)\n",
    "\n",
    "    # Add attack matrix to input matrix\n",
    "    new_V = J * (V + R)\n",
    "    model.A = new_V\n",
    "\n",
    "    # Learner\n",
    "    rmse_train, rmse_test, tsp, rmse_train0 = model.training()\n",
    "\n",
    "    W = model.P\n",
    "    H = model.V_s[model.p - 1]\n",
    "    cost1[k + 1] = torch.norm(J * V - J * (W @ H))**2\n",
    "\n",
    "    # Check convergence\n",
    "    V_cur = model.P @ model.V_s[model.p-1]\n",
    "    stp1 = (V_pre - V_cur) / V_pre\n",
    "    stp1[stp1 != stp1] = 0\n",
    "    if torch.norm(stp1, 'fro') < tol:\n",
    "        print('reach outer stopping criterion %d' % (k))\n",
    "        iterator.close()\n",
    "        break\n",
    "\n",
    "# Evaluation\n",
    "pred = (model.P @ model.V_s[-1])\n",
    "Jb = (1 - J)\n",
    "rmse = torch.norm((Jb * V) - (Jb * pred), 'fro') / np.sqrt(J[J < 1].shape[0])\n",
    "print(\"RMSE = \", rmse)"
   ]
  }
 ],
 "metadata": {
  "kernelspec": {
   "display_name": "Python 3 (ipykernel)",
   "language": "python",
   "name": "python3"
  },
  "language_info": {
   "codemirror_mode": {
    "name": "ipython",
    "version": 3
   },
   "file_extension": ".py",
   "mimetype": "text/x-python",
   "name": "python",
   "nbconvert_exporter": "python",
   "pygments_lexer": "ipython3",
   "version": "3.9.12"
  }
 },
 "nbformat": 4,
 "nbformat_minor": 5
}
